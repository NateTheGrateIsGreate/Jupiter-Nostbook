{
  "metadata": {
    "kernelspec": {
      "name": "python",
      "display_name": "Python (Pyodide)",
      "language": "python"
    },
    "language_info": {
      "codemirror_mode": {
        "name": "python",
        "version": 3
      },
      "file_extension": ".py",
      "mimetype": "text/x-python",
      "name": "python",
      "nbconvert_exporter": "python",
      "pygments_lexer": "ipython3",
      "version": "3.8"
    },
    "jupytext": {
      "formats": "ipynb,md"
    }
  },
  "nbformat_minor": 5,
  "nbformat": 4,
  "cells": [
    {
      "id": "b22c4690-2105-479f-828a-6f58910e87e0",
      "cell_type": "code",
      "source": "import numpy as np\n\nfrom scipy import stats\n\nheights_array np.loadtxt(\"SOCR-Heightweight.csv\", delimiter=\",\", dtype=str)\n\nheights heights array [1:, 1].astype (float)\n\nyour height = float(input(\"Enter your height in inches: \"))\n\npercentile stats.percentileofscore (heights, your height, kind='rank')\n\nrounded_percentile = round(percentile)\n\nprint(f\"Your height is in the rounded_percentile)th percentile.\")\n",
      "metadata": {
        "trusted": true
      },
      "outputs": [
        {
          "ename": "<class 'SyntaxError'>",
          "evalue": "invalid syntax (<ipython-input-1-5986452e0068>, line 5)",
          "traceback": [
            "\u001b[0;36m  Cell \u001b[0;32mIn[1], line 5\u001b[0;36m\u001b[0m\n\u001b[0;31m    heights_array np.loadtxt(\"SOCR-Heightweight.csv\", delimiter=\",\", dtype=str)\u001b[0m\n\u001b[0m                  ^\u001b[0m\n\u001b[0;31mSyntaxError\u001b[0m\u001b[0;31m:\u001b[0m invalid syntax\n"
          ],
          "output_type": "error"
        }
      ],
      "execution_count": 1
    },
    {
      "id": "6877594b-dad1-40d7-b7b5-8c10e4f58dda",
      "cell_type": "code",
      "source": "",
      "metadata": {
        "trusted": true
      },
      "outputs": [],
      "execution_count": null
    }
  ]
}