{
  "metadata": {
    "kernelspec": {
      "name": "python",
      "display_name": "Python (Pyodide)",
      "language": "python"
    },
    "language_info": {
      "codemirror_mode": {
        "name": "python",
        "version": 3
      },
      "file_extension": ".py",
      "mimetype": "text/x-python",
      "name": "python",
      "nbconvert_exporter": "python",
      "pygments_lexer": "ipython3",
      "version": "3.8"
    },
    "jupytext": {
      "formats": "ipynb,md"
    }
  },
  "nbformat_minor": 5,
  "nbformat": 4,
  "cells": [
    {
      "id": "b22c4690-2105-479f-828a-6f58910e87e0",
      "cell_type": "code",
      "source": "import numpy as np\n\nfrom scipy import stats\n\nheights_array np.loadtxt(\"SOCR-Heightweight.csv\", delimiter=\",\", dtype=str)\n\nheights heights array [1:, 1].astype (float)\n\nyour height = float(input(\"Enter your height in inches: \"))\n\npercentile stats.percentileofscore (heights, your height, kind='rank')\n\nrounded_percentile = round(percentile)\n\nprint(f\"Your height is in the rounded_percentile)th percentile.\")\n",
      "metadata": {
        "trusted": true
      },
      "outputs": [
        {
          "output_type": "stream",
          "name": "stdin",
          "text": "Enter your height in inches:  60\n"
        },
        {
          "name": "stdout",
          "output_type": "stream",
          "text": "Your height is in the 40th percentile.\n"
        }
      ],
      "execution_count": 21
    }
  ]
}