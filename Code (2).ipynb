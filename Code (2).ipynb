{
  "metadata": {
    "kernelspec": {
      "name": "python",
      "display_name": "Python (Pyodide)",
      "language": "python"
    },
    "language_info": {
      "codemirror_mode": {
        "name": "python",
        "version": 3
      },
      "file_extension": ".py",
      "mimetype": "text/x-python",
      "name": "python",
      "nbconvert_exporter": "python",
      "pygments_lexer": "ipython3",
      "version": "3.8"
    },
    "jupytext": {
      "formats": "ipynb,md"
    }
  },
  "nbformat_minor": 5,
  "nbformat": 4,
  "cells": [
    {
      "id": "b22c4690-2105-479f-828a-6f58910e87e0",
      "cell_type": "code",
      "source": "import numpy as np\nfrom scipy import stats\n\nheights_Array = np.loadtxt(\"SOCR-HeightWeight.csv\", delimiter=\",\", dtype=str)\nheights = heights_Array [1:, 1].astype (float)\n\nyour_Height = float(input(\"Enter your height in inches: \"))\npercentile = stats.percentileofscore (heights, your_Height, kind='rank')\n\nrounded_Percentile = round(percentile)\n\nprint(f\"Your height is in the {rounded_Percentile}th percentile.\")\n",
      "metadata": {
        "trusted": true
      },
      "outputs": [
        {
          "output_type": "stream",
          "name": "stdin",
          "text": "Enter your height in inches:  70\n"
        },
        {
          "name": "stdout",
          "output_type": "stream",
          "text": "Your height is in the 85th percentile.\n"
        }
      ],
      "execution_count": 18
    },
    {
      "id": "f4da55c6-55f7-4fca-a0c0-6ffb09e77430",
      "cell_type": "code",
      "source": "",
      "metadata": {
        "trusted": true
      },
      "outputs": [],
      "execution_count": null
    },
    {
      "id": "313eb58e-8c15-4921-8fb9-e97631535093",
      "cell_type": "code",
      "source": "",
      "metadata": {
        "trusted": true
      },
      "outputs": [],
      "execution_count": null
    }
  ]
}